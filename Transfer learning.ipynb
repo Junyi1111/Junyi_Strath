{
 "cells": [
  {
   "cell_type": "code",
   "execution_count": 10,
   "id": "084378a7",
   "metadata": {},
   "outputs": [
    {
     "name": "stdout",
     "output_type": "stream",
     "text": [
      "Source model parameters: y = 2.773780584335327x + -0.08104151487350464\n",
      "Fine-tuned model parameters: y = 29.499963760375977x + -0.4684290587902069\n"
     ]
    }
   ],
   "source": [
    "import torch\n",
    "import numpy as np\n",
    "\n",
    "# Set seed for reproducibility\n",
    "torch.manual_seed(42)\n",
    "\n",
    "# Define custom linear regression model\n",
    "class LinearModel(torch.nn.Module):\n",
    "    def __init__(self):\n",
    "        super(LinearModel, self).__init__()\n",
    "        self.linear = torch.nn.Linear(1, 1)  # One in and one out\n",
    "\n",
    "    def forward(self, x):\n",
    "        y_pred = self.linear(x)\n",
    "        return y_pred\n",
    "\n",
    "# Generate source data\n",
    "n_samples = 60\n",
    "X_source = torch.from_numpy(np.random.uniform(-3, 1, (n_samples, 1)).astype(np.float32))\n",
    "y_source = 3 * X_source + torch.randn(n_samples, 1)\n",
    "\n",
    "# Generate target data\n",
    "n_samples_target = 5\n",
    "X_target = torch.from_numpy(np.random.uniform(-3, 1, (n_samples_target, 1)).astype(np.float32))\n",
    "y_target = 30 * X_target + torch.randn(n_samples_target, 1)\n",
    "\n",
    "# Initialize the model\n",
    "model = LinearModel()\n",
    "\n",
    "# Train the model on source data\n",
    "criterion = torch.nn.MSELoss() \n",
    "optimizer = torch.optim.SGD(model.parameters(), lr = 0.01)\n",
    "\n",
    "for epoch in range(500):\n",
    "    model.train()\n",
    "    optimizer.zero_grad()\n",
    "    # Forward pass\n",
    "    y_pred = model(X_source)\n",
    "    # Compute Loss\n",
    "    loss = criterion(y_pred, y_source)\n",
    "    \n",
    "    # Backward pass\n",
    "    loss.backward()\n",
    "    optimizer.step()\n",
    "\n",
    "# Print source model parameters\n",
    "a = model.linear.weight.item()\n",
    "b = model.linear.bias.item()\n",
    "print(f\"Source model parameters: y = {a}x + {b}\")\n",
    "\n",
    "# Fine-tune the model on target data\n",
    "for epoch in range(500):\n",
    "    model.train()\n",
    "    optimizer.zero_grad()\n",
    "    # Forward pass\n",
    "    y_pred = model(X_target)\n",
    "    # Compute Loss\n",
    "    loss = criterion(y_pred, y_target)\n",
    "    \n",
    "    # Backward pass\n",
    "    loss.backward()\n",
    "    optimizer.step()\n",
    "\n",
    "# Print fine-tuned model parameters\n",
    "a = model.linear.weight.item()\n",
    "b = model.linear.bias.item()\n",
    "print(f\"Fine-tuned model parameters: y = {a}x + {b}\")\n"
   ]
  },
  {
   "cell_type": "code",
   "execution_count": null,
   "id": "732dd35f",
   "metadata": {},
   "outputs": [],
   "source": []
  }
 ],
 "metadata": {
  "kernelspec": {
   "display_name": "Python 3 (ipykernel)",
   "language": "python",
   "name": "python3"
  },
  "language_info": {
   "codemirror_mode": {
    "name": "ipython",
    "version": 3
   },
   "file_extension": ".py",
   "mimetype": "text/x-python",
   "name": "python",
   "nbconvert_exporter": "python",
   "pygments_lexer": "ipython3",
   "version": "3.10.9"
  }
 },
 "nbformat": 4,
 "nbformat_minor": 5
}
