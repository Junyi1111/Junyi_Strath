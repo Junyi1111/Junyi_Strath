{
 "cells": [
  {
   "cell_type": "code",
   "execution_count": 1,
   "id": "39984369",
   "metadata": {},
   "outputs": [],
   "source": [
    "import geopandas as gpd"
   ]
  },
  {
   "cell_type": "code",
   "execution_count": 2,
   "id": "8049ab5b",
   "metadata": {},
   "outputs": [],
   "source": [
    "SecondarySub = gpd.read_file('D:/18 Battlefield Road substation/Network/GIS_data/SecondarySub.shp')\n",
    "PrimarySub = gpd.read_file('D:/18 Battlefield Road substation/Network/GIS_data/PrimarySub.shp')\n",
    "PrimarySub_one = PrimarySub[PrimarySub['SPADDR1'].isin(['18 BATTLEFIELD ROAD'])]\n",
    "PrimarySub_one = PrimarySub_one.reset_index(drop=True)\n",
    "SecondarySub = SecondarySub.reset_index(drop=True)"
   ]
  },
  {
   "cell_type": "code",
   "execution_count": 3,
   "id": "61b36b36",
   "metadata": {},
   "outputs": [],
   "source": [
    "from shapely.geometry import Point\n",
    "# Define the primary substation point as a shapely Point object\n",
    "primary_sub = Point(PrimarySub_one['geometry'].iloc[0].coords[0])\n",
    "# Initialize an empty list to store the distances and row indices\n",
    "distances = []\n",
    "row_indices = []\n",
    "# Loop through each row in the SecondarySub dataframe\n",
    "for i, row in SecondarySub.iterrows():\n",
    "    # Calculate the distance between the primary and secondary substations\n",
    "    secondary_sub = Point(row['geometry'].coords[0])\n",
    "    distance = primary_sub.distance(secondary_sub)\n",
    "    \n",
    "    # Append the distance and row index to the corresponding lists\n",
    "    distances.append(distance)\n",
    "    row_indices.append(i)\n",
    "\n",
    "# Find the row indices of the 20 smallest distances\n",
    "min_distances_indices = sorted(range(len(distances)), key=lambda k: distances[k])[:20]\n",
    "min_distances = [distances[i] for i in min_distances_indices]\n"
   ]
  },
  {
   "cell_type": "code",
   "execution_count": 4,
   "id": "5c7747df",
   "metadata": {},
   "outputs": [],
   "source": [
    "SecondarySub.iloc[min_distances_indices]['geometry']\n",
    "geopoints_sec = SecondarySub.iloc[min_distances_indices]['geometry']\n",
    "geopoints_sec = geopoints_sec.reset_index(drop=True)\n",
    "coordinates_sec = geopoints_sec.apply(lambda x: x.coords[0])\n",
    "geopoints_pri = PrimarySub_one['geometry']\n",
    "geopoints_pri = geopoints_pri.reset_index(drop=True)\n",
    "coordinates_pri = geopoints_pri.apply(lambda x: x.coords[0])"
   ]
  },
  {
   "cell_type": "code",
   "execution_count": null,
   "id": "465879ab",
   "metadata": {},
   "outputs": [],
   "source": []
  }
 ],
 "metadata": {
  "kernelspec": {
   "display_name": "Python 3 (ipykernel)",
   "language": "python",
   "name": "python3"
  },
  "language_info": {
   "codemirror_mode": {
    "name": "ipython",
    "version": 3
   },
   "file_extension": ".py",
   "mimetype": "text/x-python",
   "name": "python",
   "nbconvert_exporter": "python",
   "pygments_lexer": "ipython3",
   "version": "3.9.12"
  }
 },
 "nbformat": 4,
 "nbformat_minor": 5
}
